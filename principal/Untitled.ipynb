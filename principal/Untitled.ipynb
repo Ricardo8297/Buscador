{
 "cells": [
  {
   "cell_type": "code",
   "execution_count": 1,
   "id": "3374fcc5-ea5f-41c6-ae50-c657f535a038",
   "metadata": {},
   "outputs": [
    {
     "data": {
      "text/plain": [
       "'wor'"
      ]
     },
     "execution_count": 1,
     "metadata": {},
     "output_type": "execute_result"
    }
   ],
   "source": [
    "import difflib\n",
    "\n",
    "word = \"work\"\n",
    "word_set = {\"word\",\"wor\",\"cork\",\"pork\"}\n",
    "\n",
    "difflib.get_close_matches(word, word_set)[0]"
   ]
  },
  {
   "cell_type": "code",
   "execution_count": 2,
   "id": "af2b0a22-d926-43ed-b877-e1e361dffda9",
   "metadata": {},
   "outputs": [
    {
     "name": "stdout",
     "output_type": "stream",
     "text": [
      "to\n"
     ]
    }
   ],
   "source": [
    "txt = \"welcome to the jungle\"\n",
    "\n",
    "x = txt.split()\n",
    "\n",
    "print(x[1])"
   ]
  },
  {
   "cell_type": "code",
   "execution_count": 3,
   "id": "b21188de-fe55-40c4-827e-2e7984836070",
   "metadata": {},
   "outputs": [
    {
     "data": {
      "text/plain": [
       "'italian'"
      ]
     },
     "execution_count": 3,
     "metadata": {},
     "output_type": "execute_result"
    }
   ],
   "source": [
    "from nltk.stem import PorterStemmer\n",
    "stemmer = PorterStemmer()\n",
    "stemmer.stem('italian')"
   ]
  },
  {
   "cell_type": "code",
   "execution_count": 4,
   "id": "635042a4-7fe8-4b71-b1d6-bead0e6248af",
   "metadata": {},
   "outputs": [
    {
     "name": "stdout",
     "output_type": "stream",
     "text": [
      "Data type before reconstruction :  <class 'str'>\n",
      "Data type after reconstruction :  <class 'dict'>\n",
      "No encontre nada\n"
     ]
    }
   ],
   "source": [
    "# importing the module\n",
    "import ast\n",
    "  \n",
    "# reading the data from the file\n",
    "with open('raiz_ind_inv.txt') as f:\n",
    "    data = f.read()\n",
    "  \n",
    "print(\"Data type before reconstruction : \", type(data))\n",
    "      \n",
    "# reconstructing the data as a dictionary\n",
    "dicts = ast.literal_eval(data)\n",
    "  \n",
    "print(\"Data type after reconstruction : \", type(dicts))\n",
    "#print(dicts)\n",
    "try:\n",
    "    aux1 = list(dicts.keys()).index('tecnology')\n",
    "    key = list(index)[aux1]\n",
    "    print(key)\n",
    "    print(aux1)\n",
    "    value = list(index.values())[aux1]\n",
    "    print(value) \n",
    "    \n",
    "except:\n",
    "    print(\"No encontre nada\")"
   ]
  },
  {
   "cell_type": "code",
   "execution_count": 5,
   "id": "cf146523-6cfd-441d-8ede-1d770f9cdfcd",
   "metadata": {},
   "outputs": [],
   "source": [
    "from collections import defaultdict\n",
    "index = defaultdict(list)\n",
    "for key, val in dicts.items():\n",
    "      for subkey, subval in val.items():\n",
    "        index[subkey].append((key, subval))\n",
    "#print(index)"
   ]
  },
  {
   "cell_type": "code",
   "execution_count": 6,
   "id": "84c86f5c-88b6-464a-964f-3f1409b5b678",
   "metadata": {},
   "outputs": [
    {
     "name": "stdout",
     "output_type": "stream",
     "text": [
      "No encontre nada\n"
     ]
    }
   ],
   "source": [
    "try:\n",
    "    key = list(index)[aux1]\n",
    "    print(key)\n",
    "    print(aux1)\n",
    "    value = list(index.values())[aux1]\n",
    "    print(value) \n",
    "    \n",
    "except:\n",
    "    print(\"No encontre nada\")"
   ]
  },
  {
   "cell_type": "code",
   "execution_count": 7,
   "id": "5dfa782d-73e9-45ef-a9c1-8f82f318a684",
   "metadata": {},
   "outputs": [
    {
     "name": "stdout",
     "output_type": "stream",
     "text": [
      "6002\n",
      "6002\n"
     ]
    }
   ],
   "source": [
    "valuess = []\n",
    "for j in index.keys():\n",
    "    valuess.append(stemmer.stem(j)) \n",
    "#print(valuess)\n",
    "print(len(valuess))\n",
    "print(len(index))"
   ]
  },
  {
   "cell_type": "code",
   "execution_count": 8,
   "id": "e7567b8c-ac5c-4665-9bc0-acb52723e4b1",
   "metadata": {},
   "outputs": [],
   "source": [
    "#y = 0\n",
    "#for i in list(index.keys()):\n",
    "    #index[valuess[y]] = index.pop(i)\n",
    "    #y += 1\n",
    "#print(index)"
   ]
  },
  {
   "cell_type": "code",
   "execution_count": 9,
   "id": "4d3201a0-9625-4752-a97c-ebca2438dbb6",
   "metadata": {},
   "outputs": [
    {
     "name": "stdout",
     "output_type": "stream",
     "text": [
      "['mysql']\n",
      "mysql\n",
      "mysql\n",
      "26\n",
      "[('http://sql.11sql.com', 4), ('http://www.techonthenet.com', 6), ('http://codenostra.com', 1), ('http://oliviertech.com', 1), ('http://www.webminal.org', 5), ('http://www.aprendeaprogramar.com', 4), ('http://dev.mysql.com', 48), ('http://demo.phpmyadmin.net', 3), ('http://www.phpmyadmin.net', 6), ('http://www.mysql.com', 40)]\n"
     ]
    }
   ],
   "source": [
    "from deep_translator import GoogleTranslator\n",
    "txt = \"mysql\"\n",
    "indice = GoogleTranslator(source='auto', target='english').translate(txt)\n",
    "sentencias = indice.split()\n",
    "print(sentencias)\n",
    "\n",
    "for i in range(len(sentencias)):\n",
    "    try:\n",
    "        valuefind=stemmer.stem(sentencias[i])\n",
    "        print(valuefind)\n",
    "        aux1 = list(index.keys()).index(valuefind)\n",
    "        key = list(index)[aux1]\n",
    "        print(key)\n",
    "        print(aux1)\n",
    "        value = list(index.values())[aux1]\n",
    "        print(value) \n",
    "    \n",
    "    except:\n",
    "        print(\"No encontre nada\")"
   ]
  },
  {
   "cell_type": "code",
   "execution_count": null,
   "id": "ebf2c8fd-2271-4afc-bbda-65aad856660a",
   "metadata": {},
   "outputs": [],
   "source": []
  }
 ],
 "metadata": {
  "kernelspec": {
   "display_name": "Python 3 (ipykernel)",
   "language": "python",
   "name": "python3"
  },
  "language_info": {
   "codemirror_mode": {
    "name": "ipython",
    "version": 3
   },
   "file_extension": ".py",
   "mimetype": "text/x-python",
   "name": "python",
   "nbconvert_exporter": "python",
   "pygments_lexer": "ipython3",
   "version": "3.9.12"
  }
 },
 "nbformat": 4,
 "nbformat_minor": 5
}
